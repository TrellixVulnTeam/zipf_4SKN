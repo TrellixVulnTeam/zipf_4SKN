{
 "cells": [
  {
   "cell_type": "code",
   "execution_count": 3,
   "metadata": {},
   "outputs": [],
   "source": [
    "import requests"
   ]
  },
  {
   "cell_type": "code",
   "execution_count": 4,
   "metadata": {},
   "outputs": [
    {
     "name": "stdout",
     "output_type": "stream",
     "text": [
      "200\n"
     ]
    }
   ],
   "source": [
    "response = requests.get(\n",
    "    url=\"https://en.wikipedia.org/wiki/Team_sport\",\n",
    ")\n",
    "print(response.status_code)"
   ]
  },
  {
   "cell_type": "code",
   "execution_count": 5,
   "metadata": {},
   "outputs": [],
   "source": [
    "from bs4 import BeautifulSoup"
   ]
  },
  {
   "cell_type": "code",
   "execution_count": 6,
   "metadata": {},
   "outputs": [],
   "source": [
    "soup = BeautifulSoup(response.content, 'html.parser')"
   ]
  },
  {
   "cell_type": "code",
   "execution_count": 7,
   "metadata": {},
   "outputs": [
    {
     "name": "stdout",
     "output_type": "stream",
     "text": [
      "Team sport\n"
     ]
    }
   ],
   "source": [
    "title = soup.find(id=\"firstHeading\")\n",
    "print(title.string)"
   ]
  },
  {
   "cell_type": "code",
   "execution_count": 8,
   "metadata": {},
   "outputs": [],
   "source": [
    "# Get all the links\n",
    "allLinks = soup.find(id=\"bodyContent\").find_all(\"a\")\n",
    "linkToScrape = 0"
   ]
  },
  {
   "cell_type": "code",
   "execution_count": 9,
   "metadata": {},
   "outputs": [],
   "source": [
    "# Loop through links checking for the `/wiki` prefix\n",
    "for link in allLinks:\n",
    "    if link['href'].find(\"/wiki/\") == -1:\n",
    "        continue\n",
    "    linkToScrape = link\n",
    "    break        "
   ]
  },
  {
   "cell_type": "code",
   "execution_count": 10,
   "metadata": {},
   "outputs": [
    {
     "name": "stdout",
     "output_type": "stream",
     "text": [
      "/wiki/Wikipedia:Citing_sources\n"
     ]
    }
   ],
   "source": [
    "print(linkToScrape['href'])"
   ]
  },
  {
   "cell_type": "code",
   "execution_count": 11,
   "metadata": {},
   "outputs": [],
   "source": [
    "# List to keep track of visited pages\n",
    "visited = []"
   ]
  },
  {
   "cell_type": "code",
   "execution_count": 20,
   "metadata": {},
   "outputs": [],
   "source": [
    "# write a function that combines these processes into one\n",
    "\n",
    "def scrapeWiki(url):\n",
    "    response = requests.get(\n",
    "        url=url,\n",
    "    )\n",
    "    \n",
    "    soup = BeautifulSoup(response.content, 'html.parser')\n",
    "    \n",
    "    title = soup.find(id=\"firstHeading\")\n",
    "    print(title.text)\n",
    "    \n",
    "    global visited\n",
    "\n",
    "    visited.append(url)\n",
    "    \n",
    "    # Get all the links\n",
    "    allParas = soup.find(id=\"bodyContent\").find_all(\"p\")    \n",
    "    allLinks = []\n",
    "    for para in allParas:\n",
    "        if para.find('a') is None:\n",
    "            continue\n",
    "        allLinks.append(para.find('a'))\n",
    "    linkToScrape = 0\n",
    "    \n",
    "    print(allLinks)\n",
    "    \n",
    "    # Loop through links checking for the `/wiki` prefix\n",
    "    for link in allLinks:\n",
    "        \n",
    "        link_url = \"https://en.wikipedia.org\" + link['href']\n",
    "        sub_string = 0\n",
    "        for visited_link in visited:\n",
    "            if (link_url + '#') in visited_link or '.svg' in visited_link:\n",
    "                sub_string = 1\n",
    "        \n",
    "        if link['href'].find(\"/wiki/\") == -1 or link_url in visited or sub_string != 0:\n",
    "            continue\n",
    "            \n",
    "        \n",
    "        \n",
    "        linkToScrape = link\n",
    "        break        \n",
    "\n",
    "    scrapeWiki(\"https://en.wikipedia.org\" + linkToScrape['href'])"
   ]
  },
  {
   "cell_type": "code",
   "execution_count": 21,
   "metadata": {},
   "outputs": [
    {
     "name": "stdout",
     "output_type": "stream",
     "text": [
      "Team sport\n",
      "[None, <a href=\"/wiki/Sport\" title=\"Sport\">sport</a>, None, <a href=\"/wiki/Swimming_(sport)\" title=\"Swimming (sport)\">swimming</a>, <a href=\"/wiki/Athlete\" title=\"Athlete\">athletes</a>, <a href=\"/wiki/Sprint_(running)\" title=\"Sprint (running)\">sprinting</a>, <a href=\"/wiki/Ancient_Olympic_Games\" title=\"Ancient Olympic Games\">ancient Olympic Games</a>, <a href=\"/wiki/Athlete\" title=\"Athlete\">athlete</a>, <a class=\"external text\" href=\"https://books.google.com/books?id=oASTvHPxitMC\" rel=\"nofollow\"><i>Getting Started in Track and Field Athletics: Advice &amp; ideas for Children, Parents, and Teachers</i></a>, <a href=\"/wiki/Olympic_Games\" title=\"Olympic Games\">Olympic Games</a>, <a class=\"mw-redirect\" href=\"/wiki/Summer_Olympics\" title=\"Summer Olympics\">Summer Olympics</a>, <a href=\"/wiki/Ice_hockey\" title=\"Ice hockey\">Ice hockey</a>, None, <a href=\"#cite_note-14\">[14]</a>]\n"
     ]
    },
    {
     "ename": "TypeError",
     "evalue": "'NoneType' object is not subscriptable",
     "output_type": "error",
     "traceback": [
      "\u001b[0;31m---------------------------------------------------------------------------\u001b[0m",
      "\u001b[0;31mTypeError\u001b[0m                                 Traceback (most recent call last)",
      "\u001b[0;32m<ipython-input-21-224c56843035>\u001b[0m in \u001b[0;36m<module>\u001b[0;34m\u001b[0m\n\u001b[0;32m----> 1\u001b[0;31m \u001b[0mscrapeWiki\u001b[0m\u001b[0;34m(\u001b[0m\u001b[0;34m\"https://en.wikipedia.org/wiki/Team_sport\"\u001b[0m\u001b[0;34m)\u001b[0m\u001b[0;34m\u001b[0m\u001b[0;34m\u001b[0m\u001b[0m\n\u001b[0m",
      "\u001b[0;32m<ipython-input-20-d3894999c6a3>\u001b[0m in \u001b[0;36mscrapeWiki\u001b[0;34m(url)\u001b[0m\n\u001b[1;32m     27\u001b[0m     \u001b[0;32mfor\u001b[0m \u001b[0mlink\u001b[0m \u001b[0;32min\u001b[0m \u001b[0mallLinks\u001b[0m\u001b[0;34m:\u001b[0m\u001b[0;34m\u001b[0m\u001b[0;34m\u001b[0m\u001b[0m\n\u001b[1;32m     28\u001b[0m \u001b[0;34m\u001b[0m\u001b[0m\n\u001b[0;32m---> 29\u001b[0;31m         \u001b[0mlink_url\u001b[0m \u001b[0;34m=\u001b[0m \u001b[0;34m\"https://en.wikipedia.org\"\u001b[0m \u001b[0;34m+\u001b[0m \u001b[0mlink\u001b[0m\u001b[0;34m[\u001b[0m\u001b[0;34m'href'\u001b[0m\u001b[0;34m]\u001b[0m\u001b[0;34m\u001b[0m\u001b[0;34m\u001b[0m\u001b[0m\n\u001b[0m\u001b[1;32m     30\u001b[0m         \u001b[0msub_string\u001b[0m \u001b[0;34m=\u001b[0m \u001b[0;36m0\u001b[0m\u001b[0;34m\u001b[0m\u001b[0;34m\u001b[0m\u001b[0m\n\u001b[1;32m     31\u001b[0m         \u001b[0;32mfor\u001b[0m \u001b[0mvisited_link\u001b[0m \u001b[0;32min\u001b[0m \u001b[0mvisited\u001b[0m\u001b[0;34m:\u001b[0m\u001b[0;34m\u001b[0m\u001b[0;34m\u001b[0m\u001b[0m\n",
      "\u001b[0;31mTypeError\u001b[0m: 'NoneType' object is not subscriptable"
     ]
    }
   ],
   "source": [
    "scrapeWiki(\"https://en.wikipedia.org/wiki/Team_sport\")"
   ]
  },
  {
   "cell_type": "code",
   "execution_count": 13,
   "metadata": {},
   "outputs": [
    {
     "name": "stdout",
     "output_type": "stream",
     "text": [
      "['https://en.wikipedia.org/wiki/Team_sport', 'https://en.wikipedia.org/wiki/Wikipedia:Citing_sources', 'https://en.wikipedia.org/wiki/Help:Footnotes', 'https://en.wikipedia.org/wiki/Help:Citation_Style_1', 'https://en.wikipedia.org/wiki/File:Twemoji_1f527.svg']\n"
     ]
    }
   ],
   "source": [
    "print(visited)"
   ]
  },
  {
   "cell_type": "code",
   "execution_count": null,
   "metadata": {},
   "outputs": [],
   "source": []
  }
 ],
 "metadata": {
  "kernelspec": {
   "display_name": "Python 3",
   "language": "python",
   "name": "python3"
  },
  "language_info": {
   "codemirror_mode": {
    "name": "ipython",
    "version": 3
   },
   "file_extension": ".py",
   "mimetype": "text/x-python",
   "name": "python",
   "nbconvert_exporter": "python",
   "pygments_lexer": "ipython3",
   "version": "3.8.5"
  }
 },
 "nbformat": 4,
 "nbformat_minor": 4
}
