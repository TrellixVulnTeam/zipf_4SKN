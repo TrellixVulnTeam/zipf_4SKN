{
 "cells": [
  {
   "cell_type": "code",
   "execution_count": 1,
   "metadata": {},
   "outputs": [],
   "source": [
    "import requests"
   ]
  },
  {
   "cell_type": "code",
   "execution_count": 2,
   "metadata": {},
   "outputs": [
    {
     "name": "stdout",
     "output_type": "stream",
     "text": [
      "200\n"
     ]
    }
   ],
   "source": [
    "response = requests.get(\n",
    "    url=\"https://en.wikipedia.org/wiki/Team_sport\",\n",
    ")\n",
    "print(response.status_code)"
   ]
  },
  {
   "cell_type": "code",
   "execution_count": 3,
   "metadata": {},
   "outputs": [],
   "source": [
    "from bs4 import BeautifulSoup"
   ]
  },
  {
   "cell_type": "code",
   "execution_count": 4,
   "metadata": {},
   "outputs": [],
   "source": [
    "soup = BeautifulSoup(response.content, 'html.parser')"
   ]
  },
  {
   "cell_type": "code",
   "execution_count": 5,
   "metadata": {},
   "outputs": [
    {
     "name": "stdout",
     "output_type": "stream",
     "text": [
      "Team sport\n"
     ]
    }
   ],
   "source": [
    "title = soup.find(id=\"firstHeading\")\n",
    "print(title.string)"
   ]
  },
  {
   "cell_type": "code",
   "execution_count": 6,
   "metadata": {},
   "outputs": [],
   "source": [
    "# Get all the links\n",
    "allLinks = soup.find(id=\"bodyContent\").find_all(\"a\")\n",
    "linkToScrape = 0"
   ]
  },
  {
   "cell_type": "code",
   "execution_count": 7,
   "metadata": {},
   "outputs": [],
   "source": [
    "# Loop through links checking for the `/wiki` prefix\n",
    "for link in allLinks:\n",
    "    if link['href'].find(\"/wiki/\") == -1:\n",
    "        continue\n",
    "    linkToScrape = link\n",
    "    break        "
   ]
  },
  {
   "cell_type": "code",
   "execution_count": 8,
   "metadata": {},
   "outputs": [
    {
     "name": "stdout",
     "output_type": "stream",
     "text": [
      "/wiki/Wikipedia:Citing_sources\n"
     ]
    }
   ],
   "source": [
    "print(linkToScrape['href'])"
   ]
  },
  {
   "cell_type": "code",
   "execution_count": 9,
   "metadata": {},
   "outputs": [],
   "source": [
    "# List to keep track of visited pages\n",
    "visited = []"
   ]
  },
  {
   "cell_type": "code",
   "execution_count": 10,
   "metadata": {},
   "outputs": [],
   "source": [
    "# Word-frequency dictionary \n",
    "word_freq = {}"
   ]
  },
  {
   "cell_type": "code",
   "execution_count": 11,
   "metadata": {},
   "outputs": [],
   "source": [
    "import requests\n",
    "import re"
   ]
  },
  {
   "cell_type": "code",
   "execution_count": 12,
   "metadata": {},
   "outputs": [],
   "source": [
    "from collections import Counter\n",
    "from string import punctuation"
   ]
  },
  {
   "cell_type": "code",
   "execution_count": 13,
   "metadata": {},
   "outputs": [],
   "source": [
    "def is_valid(url):\n",
    "    \"\"\"Checking if a link is valid\"\"\"\n",
    "    \n",
    "    if url:\n",
    "        if url.startswith('/wiki'):\n",
    "            if not re.compile('/\\w+:').search(url):\n",
    "                return True\n",
    "            \n",
    "    return False"
   ]
  },
  {
   "cell_type": "code",
   "execution_count": 14,
   "metadata": {},
   "outputs": [],
   "source": [
    "# write a function that combines these processes into one\n",
    "\n",
    "def scrapeWiki(url):\n",
    "    global visited\n",
    "    if len(visited) > 100:\n",
    "        return\n",
    "        \n",
    "    response = requests.get(\n",
    "        url=url,\n",
    "    )\n",
    "    \n",
    "    soup1 = BeautifulSoup(response.content, 'html.parser')\n",
    "    \n",
    "    global word_freq\n",
    "    soup2 = BeautifulSoup(response.content)\n",
    "    text = (''.join(s.find_all(text=True))for s in soup2.find_all('p'))\n",
    "    text = ((x.rstrip(punctuation).lower() for y in text for x in y.split()))\n",
    "    for word in text:\n",
    "        if word in word_freq:\n",
    "            word_freq[word] += 1\n",
    "        else:\n",
    "            word_freq[word] = 1\n",
    "    \n",
    "    title = soup1.find(id=\"firstHeading\")\n",
    "    print(title.text)\n",
    "        \n",
    "    # Get all the links\n",
    "    \n",
    "    allLinks = soup1.find(id=\"bodyContent\").find_all(\"a\")\n",
    "    \n",
    "    # Loop through links checking if valid\n",
    "    for link in allLinks:\n",
    "        \n",
    "        link_url = link.get('href', '')\n",
    "        if link_url not in visited and is_valid(link_url):\n",
    "            visited.append(link_url)\n",
    "            break\n",
    "              \n",
    "\n",
    "    scrapeWiki(\"https://en.wikipedia.org\" + link_url)"
   ]
  },
  {
   "cell_type": "code",
   "execution_count": null,
   "metadata": {},
   "outputs": [
    {
     "name": "stdout",
     "output_type": "stream",
     "text": [
      "Team sport\n",
      "Cricket\n",
      "Cricket (insect)\n",
      "Cricket (disambiguation)\n",
      "The Cricket (1917 film)\n",
      "Elsie Jane Wilson\n",
      "Silent film\n",
      "Silent Movie\n",
      "John Alvin\n",
      "John Alvin (actor)\n",
      "Chicago\n",
      "Chicago (disambiguation)\n",
      "Chicago Park, California\n",
      "Unincorporated area\n",
      "Contra Costa Centre, California\n",
      "Census-designated place\n",
      "Political divisions of the United States\n",
      "U.S. state\n",
      "Commonwealth (U.S. state)\n",
      "Commonwealth (U.S. insular area)\n",
      "Commonwealth (disambiguation)\n",
      "Commonwealth\n",
      "Commonwealth of Nations\n",
      "Commonwealth realm\n",
      "Dominion\n",
      "Dominion (disambiguation)\n",
      "Dominion (supermarket)\n",
      "Division (business)\n",
      "Business\n",
      "Business (disambiguation)\n",
      "Goods and services\n",
      "Capitalism\n",
      "Capitalism (disambiguation)\n",
      "Economic liberalism\n",
      "Neoliberalism\n",
      "Neoliberalism (international relations)\n",
      "International relations\n",
      "International Relations (journal)\n",
      "Outline of academic disciplines\n",
      "Research\n",
      "Research (disambiguation)\n",
      "Research, Victoria\n",
      "Melbourne\n",
      "Melbourne city centre\n",
      "City of Melbourne\n",
      "Melbourne (disambiguation)\n",
      "Melbourne city centre\n",
      "Victoria (Australia)\n",
      "Victoria\n",
      "Victoria, British Columbia\n",
      "Greater Victoria\n",
      "Greater Vitória\n",
      "A Grande Vitória\n",
      "Caio Castro\n",
      "Portuguese name\n",
      "Given name\n",
      "Call name (disambiguation)\n",
      "Call sign\n",
      "Callsign (company)\n",
      "Identity fraud\n",
      "Personal data\n",
      "Private Information\n",
      "Fergus McDonell\n",
      "Ticehurst\n",
      "Ticehurst (surname)\n"
     ]
    }
   ],
   "source": [
    "scrapeWiki(\"https://en.wikipedia.org/wiki/Team_sport\")"
   ]
  },
  {
   "cell_type": "code",
   "execution_count": null,
   "metadata": {},
   "outputs": [],
   "source": [
    "print(len(visited))"
   ]
  },
  {
   "cell_type": "code",
   "execution_count": null,
   "metadata": {},
   "outputs": [],
   "source": [
    "def sortFreqDict(freqdict):\n",
    "    aux = [(freqdict[key], key) for key in freqdict]\n",
    "    aux.sort()\n",
    "    aux.reverse()\n",
    "    return aux"
   ]
  },
  {
   "cell_type": "code",
   "execution_count": null,
   "metadata": {},
   "outputs": [],
   "source": [
    "print(sortFreqDict(word_freq))"
   ]
  },
  {
   "cell_type": "code",
   "execution_count": null,
   "metadata": {},
   "outputs": [],
   "source": [
    "new_word_freq = sortFreqDict(word_freq)[:20]"
   ]
  },
  {
   "cell_type": "code",
   "execution_count": null,
   "metadata": {},
   "outputs": [],
   "source": [
    "import matplotlib.pyplot as plt"
   ]
  },
  {
   "cell_type": "code",
   "execution_count": null,
   "metadata": {},
   "outputs": [],
   "source": [
    "from math import log"
   ]
  },
  {
   "cell_type": "code",
   "execution_count": null,
   "metadata": {},
   "outputs": [],
   "source": [
    "x_val = [x[1] for x in new_word_freq]\n",
    "y_val = [y[0] for y in new_word_freq]\n",
    "\n",
    "plt.plot(x_val, y_val)\n",
    "plt.show()"
   ]
  },
  {
   "cell_type": "code",
   "execution_count": null,
   "metadata": {},
   "outputs": [],
   "source": []
  }
 ],
 "metadata": {
  "kernelspec": {
   "display_name": "Python 3",
   "language": "python",
   "name": "python3"
  },
  "language_info": {
   "codemirror_mode": {
    "name": "ipython",
    "version": 3
   },
   "file_extension": ".py",
   "mimetype": "text/x-python",
   "name": "python",
   "nbconvert_exporter": "python",
   "pygments_lexer": "ipython3",
   "version": "3.8.5"
  }
 },
 "nbformat": 4,
 "nbformat_minor": 4
}
